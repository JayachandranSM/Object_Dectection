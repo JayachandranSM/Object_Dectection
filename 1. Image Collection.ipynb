{
 "cells": [
  {
   "cell_type": "markdown",
   "metadata": {},
   "source": [
    "# 1. Import Dependencies"
   ]
  },
  {
   "cell_type": "code",
   "execution_count": 1,
   "metadata": {},
   "outputs": [
    {
     "name": "stdout",
     "output_type": "stream",
     "text": [
      "Collecting opencv-python\n",
      "  Using cached opencv_python-4.8.1.78-cp37-abi3-win_amd64.whl.metadata (20 kB)\n",
      "Requirement already satisfied: numpy>=1.21.2 in e:\\tensforflow object\\tfodcourse\\tfod\\lib\\site-packages (from opencv-python) (1.24.3)\n",
      "Using cached opencv_python-4.8.1.78-cp37-abi3-win_amd64.whl (38.1 MB)\n",
      "Installing collected packages: opencv-python\n",
      "Successfully installed opencv-python-4.8.1.78\n"
     ]
    }
   ],
   "source": [
    "!pip install opencv-python"
   ]
  },
  {
   "cell_type": "code",
   "execution_count": 2,
   "metadata": {},
   "outputs": [],
   "source": [
    "# Import opencv\n",
    "import cv2 \n",
    "\n",
    "# Import uuid\n",
    "import uuid\n",
    "\n",
    "# Import Operating System\n",
    "import os\n",
    "\n",
    "# Import time\n",
    "import time"
   ]
  },
  {
   "cell_type": "markdown",
   "metadata": {},
   "source": [
    "# 2. Define Images to Collect"
   ]
  },
  {
   "cell_type": "code",
   "execution_count": 3,
   "metadata": {},
   "outputs": [],
   "source": [
    "#labels = ['thumbsup', 'thumbsdown', 'thankyou', 'livelong']\n",
    "labels = ['Happy', 'Sad']\n",
    "number_imgs = 10"
   ]
  },
  {
   "cell_type": "markdown",
   "metadata": {},
   "source": [
    "# 3. Setup Folders "
   ]
  },
  {
   "cell_type": "code",
   "execution_count": 4,
   "metadata": {},
   "outputs": [],
   "source": [
    "IMAGES_PATH = os.path.join('Tensorflow', 'workspace', 'images', 'collectedimages')"
   ]
  },
  {
   "cell_type": "code",
   "execution_count": 5,
   "metadata": {},
   "outputs": [],
   "source": [
    "if not os.path.exists(IMAGES_PATH):\n",
    "    if os.name == 'posix':\n",
    "        !mkdir -p {IMAGES_PATH}\n",
    "    if os.name == 'nt':\n",
    "         !mkdir {IMAGES_PATH}\n",
    "for label in labels:\n",
    "    path = os.path.join(IMAGES_PATH, label)\n",
    "    if not os.path.exists(path):\n",
    "        !mkdir {path}"
   ]
  },
  {
   "cell_type": "markdown",
   "metadata": {},
   "source": [
    "# 4. Capture Images"
   ]
  },
  {
   "cell_type": "code",
   "execution_count": 6,
   "metadata": {},
   "outputs": [
    {
     "name": "stdout",
     "output_type": "stream",
     "text": [
      "Collecting images for Happy\n",
      "Collecting image 0\n",
      "Collecting image 1\n",
      "Collecting image 2\n",
      "Collecting image 3\n",
      "Collecting image 4\n",
      "Collecting image 5\n",
      "Collecting image 6\n",
      "Collecting image 7\n",
      "Collecting image 8\n",
      "Collecting image 9\n",
      "Collecting images for Sad\n",
      "Collecting image 0\n",
      "Collecting image 1\n",
      "Collecting image 2\n",
      "Collecting image 3\n",
      "Collecting image 4\n",
      "Collecting image 5\n",
      "Collecting image 6\n",
      "Collecting image 7\n",
      "Collecting image 8\n",
      "Collecting image 9\n"
     ]
    }
   ],
   "source": [
    "for label in labels:\n",
    "    cap = cv2.VideoCapture(0)\n",
    "    print('Collecting images for {}'.format(label))\n",
    "    time.sleep(5)\n",
    "    for imgnum in range(number_imgs):\n",
    "        print('Collecting image {}'.format(imgnum))\n",
    "        ret, frame = cap.read()\n",
    "        imgname = os.path.join(IMAGES_PATH,label,label+'.'+'{}.jpg'.format(str(uuid.uuid1())))\n",
    "        cv2.imwrite(imgname, frame)\n",
    "        cv2.imshow('frame', frame)\n",
    "        time.sleep(2)\n",
    "\n",
    "        if cv2.waitKey(1) & 0xFF == ord('q'):\n",
    "            break\n",
    "cap.release()\n",
    "cv2.destroyAllWindows()"
   ]
  },
  {
   "cell_type": "markdown",
   "metadata": {},
   "source": [
    "# 5. Image Labelling"
   ]
  },
  {
   "cell_type": "code",
   "execution_count": 10,
   "metadata": {},
   "outputs": [
    {
     "name": "stdout",
     "output_type": "stream",
     "text": [
      "Collecting pyqt5\n",
      "  Using cached PyQt5-5.15.4-cp36.cp37.cp38.cp39-none-win_amd64.whl (6.8 MB)\n",
      "Collecting lxml\n",
      "  Using cached lxml-4.6.3-cp37-cp37m-win_amd64.whl (3.5 MB)\n",
      "Collecting PyQt5-sip<13,>=12.8\n",
      "  Using cached PyQt5_sip-12.8.1-cp37-cp37m-win_amd64.whl (62 kB)\n",
      "Collecting PyQt5-Qt5>=5.15\n",
      "  Using cached PyQt5_Qt5-5.15.2-py3-none-win_amd64.whl (50.1 MB)\n",
      "Installing collected packages: PyQt5-sip, PyQt5-Qt5, pyqt5, lxml\n",
      "Successfully installed PyQt5-Qt5-5.15.2 PyQt5-sip-12.8.1 lxml-4.6.3 pyqt5-5.15.4\n"
     ]
    }
   ],
   "source": [
    "#!pip install --upgrade pyqt5 lxml"
   ]
  },
  {
   "cell_type": "code",
   "execution_count": 7,
   "metadata": {},
   "outputs": [],
   "source": [
    "LABELIMG_PATH = os.path.join('Tensorflow', 'labelimg')"
   ]
  },
  {
   "cell_type": "code",
   "execution_count": 8,
   "metadata": {},
   "outputs": [
    {
     "name": "stderr",
     "output_type": "stream",
     "text": [
      "Cloning into 'Tensorflow\\labelimg'...\n"
     ]
    }
   ],
   "source": [
    "if not os.path.exists(LABELIMG_PATH):\n",
    "    !mkdir {LABELIMG_PATH}\n",
    "    !git clone https://github.com/tzutalin/labelImg {LABELIMG_PATH}"
   ]
  },
  {
   "cell_type": "code",
   "execution_count": 9,
   "metadata": {},
   "outputs": [],
   "source": [
    "if os.name == 'posix':\n",
    "    !make qt5py3\n",
    "if os.name =='nt':\n",
    "    !cd {LABELIMG_PATH} && pyrcc5 -o libs/resources.py resources.qrc"
   ]
  },
  {
   "cell_type": "code",
   "execution_count": 10,
   "metadata": {},
   "outputs": [
    {
     "name": "stdout",
     "output_type": "stream",
     "text": [
      "Image:E:\\Tensforflow Object\\TFODCourse\\Tensorflow\\workspace\\images\\collectedimages\\Happy\\Happy.8a3495d9-7617-11ee-bb22-14f6d8e104f0.jpg -> Annotation:E:/Tensforflow Object/TFODCourse/Tensorflow/workspace/images/collectedimages/Happy\\Happy.8a3495d9-7617-11ee-bb22-14f6d8e104f0.xml\n",
      "Image:E:\\Tensforflow Object\\TFODCourse\\Tensorflow\\workspace\\images\\collectedimages\\Happy\\Happy.8b6b2557-7617-11ee-97b4-14f6d8e104f0.jpg -> Annotation:E:/Tensforflow Object/TFODCourse/Tensorflow/workspace/images/collectedimages/Happy\\Happy.8b6b2557-7617-11ee-97b4-14f6d8e104f0.xml\n",
      "Image:E:\\Tensforflow Object\\TFODCourse\\Tensorflow\\workspace\\images\\collectedimages\\Happy\\Happy.8ca0f497-7617-11ee-9fb4-14f6d8e104f0.jpg -> Annotation:E:/Tensforflow Object/TFODCourse/Tensorflow/workspace/images/collectedimages/Happy\\Happy.8ca0f497-7617-11ee-9fb4-14f6d8e104f0.xml\n",
      "Image:E:\\Tensforflow Object\\TFODCourse\\Tensorflow\\workspace\\images\\collectedimages\\Happy\\Happy.8dd52632-7617-11ee-b465-14f6d8e104f0.jpg -> Annotation:E:/Tensforflow Object/TFODCourse/Tensorflow/workspace/images/collectedimages/Happy\\Happy.8dd52632-7617-11ee-b465-14f6d8e104f0.xml\n",
      "Image:E:\\Tensforflow Object\\TFODCourse\\Tensorflow\\workspace\\images\\collectedimages\\Happy\\Happy.82f0d335-7617-11ee-a780-14f6d8e104f0.jpg -> Annotation:E:/Tensforflow Object/TFODCourse/Tensorflow/workspace/images/collectedimages/Happy\\Happy.82f0d335-7617-11ee-a780-14f6d8e104f0.xml\n",
      "Image:E:\\Tensforflow Object\\TFODCourse\\Tensorflow\\workspace\\images\\collectedimages\\Happy\\Happy.87cba13c-7617-11ee-b215-14f6d8e104f0.jpg -> Annotation:E:/Tensforflow Object/TFODCourse/Tensorflow/workspace/images/collectedimages/Happy\\Happy.87cba13c-7617-11ee-b215-14f6d8e104f0.xml\n",
      "Image:E:\\Tensforflow Object\\TFODCourse\\Tensorflow\\workspace\\images\\collectedimages\\Happy\\Happy.88ffe79d-7617-11ee-8c61-14f6d8e104f0.jpg -> Annotation:E:/Tensforflow Object/TFODCourse/Tensorflow/workspace/images/collectedimages/Happy\\Happy.88ffe79d-7617-11ee-8c61-14f6d8e104f0.xml\n",
      "Image:E:\\Tensforflow Object\\TFODCourse\\Tensorflow\\workspace\\images\\collectedimages\\Happy\\Happy.855fa8e3-7617-11ee-ade8-14f6d8e104f0.jpg -> Annotation:E:/Tensforflow Object/TFODCourse/Tensorflow/workspace/images/collectedimages/Happy\\Happy.855fa8e3-7617-11ee-ade8-14f6d8e104f0.xml\n",
      "Image:E:\\Tensforflow Object\\TFODCourse\\Tensorflow\\workspace\\images\\collectedimages\\Happy\\Happy.86952a1d-7617-11ee-b11c-14f6d8e104f0.jpg -> Annotation:E:/Tensforflow Object/TFODCourse/Tensorflow/workspace/images/collectedimages/Happy\\Happy.86952a1d-7617-11ee-b11c-14f6d8e104f0.xml\n",
      "Image:E:\\Tensforflow Object\\TFODCourse\\Tensorflow\\workspace\\images\\collectedimages\\Happy\\Happy.842924ad-7617-11ee-858b-14f6d8e104f0.jpg -> Annotation:E:/Tensforflow Object/TFODCourse/Tensorflow/workspace/images/collectedimages/Happy\\Happy.842924ad-7617-11ee-858b-14f6d8e104f0.xml\n",
      "Image:E:\\Tensforflow Object\\TFODCourse\\Tensorflow\\workspace\\images\\collectedimages\\Happy\\Happy.842924ad-7617-11ee-858b-14f6d8e104f0.jpg -> Annotation:E:/Tensforflow Object/TFODCourse/Tensorflow/workspace/images/collectedimages/Happy\\Happy.842924ad-7617-11ee-858b-14f6d8e104f0.xml\n",
      "Image:E:\\Tensforflow Object\\TFODCourse\\Tensorflow\\workspace\\images\\collectedimages\\Sad\\Sad.9e06e4c8-7617-11ee-bcc9-14f6d8e104f0.jpg -> Annotation:E:/Tensforflow Object/TFODCourse/Tensorflow/workspace/images/collectedimages/Sad\\Sad.9e06e4c8-7617-11ee-bcc9-14f6d8e104f0.xml\n",
      "Image:E:\\Tensforflow Object\\TFODCourse\\Tensorflow\\workspace\\images\\collectedimages\\Sad\\Sad.96c520c7-7617-11ee-a049-14f6d8e104f0.jpg -> Annotation:E:/Tensforflow Object/TFODCourse/Tensorflow/workspace/images/collectedimages/Sad\\Sad.96c520c7-7617-11ee-a049-14f6d8e104f0.xml\n",
      "Image:E:\\Tensforflow Object\\TFODCourse\\Tensorflow\\workspace\\images\\collectedimages\\Sad\\Sad.97fb52c8-7617-11ee-9bef-14f6d8e104f0.jpg -> Annotation:E:/Tensforflow Object/TFODCourse/Tensorflow/workspace/images/collectedimages/Sad\\Sad.97fb52c8-7617-11ee-9bef-14f6d8e104f0.xml\n",
      "Image:E:\\Tensforflow Object\\TFODCourse\\Tensorflow\\workspace\\images\\collectedimages\\Sad\\Sad.945b38c5-7617-11ee-9955-14f6d8e104f0.jpg -> Annotation:E:/Tensforflow Object/TFODCourse/Tensorflow/workspace/images/collectedimages/Sad\\Sad.945b38c5-7617-11ee-9955-14f6d8e104f0.xml\n",
      "Image:E:\\Tensforflow Object\\TFODCourse\\Tensorflow\\workspace\\images\\collectedimages\\Sad\\Sad.958f1edc-7617-11ee-bdf3-14f6d8e104f0.jpg -> Annotation:E:/Tensforflow Object/TFODCourse/Tensorflow/workspace/images/collectedimages/Sad\\Sad.958f1edc-7617-11ee-bdf3-14f6d8e104f0.xml\n",
      "Image:E:\\Tensforflow Object\\TFODCourse\\Tensorflow\\workspace\\images\\collectedimages\\Sad\\Sad.93244441-7617-11ee-a7d9-14f6d8e104f0.jpg -> Annotation:E:/Tensforflow Object/TFODCourse/Tensorflow/workspace/images/collectedimages/Sad\\Sad.93244441-7617-11ee-a7d9-14f6d8e104f0.xml\n",
      "Image:E:\\Tensforflow Object\\TFODCourse\\Tensorflow\\workspace\\images\\collectedimages\\Sad\\Sad.99310314-7617-11ee-9f2a-14f6d8e104f0.jpg -> Annotation:E:/Tensforflow Object/TFODCourse/Tensorflow/workspace/images/collectedimages/Sad\\Sad.99310314-7617-11ee-9f2a-14f6d8e104f0.xml\n",
      "Image:E:\\Tensforflow Object\\TFODCourse\\Tensorflow\\workspace\\images\\collectedimages\\Sad\\Sad.9a66a1da-7617-11ee-a86f-14f6d8e104f0.jpg -> Annotation:E:/Tensforflow Object/TFODCourse/Tensorflow/workspace/images/collectedimages/Sad\\Sad.9a66a1da-7617-11ee-a86f-14f6d8e104f0.xml\n",
      "Image:E:\\Tensforflow Object\\TFODCourse\\Tensorflow\\workspace\\images\\collectedimages\\Sad\\Sad.9b9c5e93-7617-11ee-bb9d-14f6d8e104f0.jpg -> Annotation:E:/Tensforflow Object/TFODCourse/Tensorflow/workspace/images/collectedimages/Sad\\Sad.9b9c5e93-7617-11ee-bb9d-14f6d8e104f0.xml\n",
      "Image:E:\\Tensforflow Object\\TFODCourse\\Tensorflow\\workspace\\images\\collectedimages\\Sad\\Sad.9cd0afbc-7617-11ee-a71c-14f6d8e104f0.jpg -> Annotation:E:/Tensforflow Object/TFODCourse/Tensorflow/workspace/images/collectedimages/Sad\\Sad.9cd0afbc-7617-11ee-a71c-14f6d8e104f0.xml\n"
     ]
    }
   ],
   "source": [
    "!cd {LABELIMG_PATH} && python labelImg.py"
   ]
  },
  {
   "cell_type": "markdown",
   "metadata": {},
   "source": [
    "# 6. Move them into a Training and Testing Partition"
   ]
  },
  {
   "cell_type": "markdown",
   "metadata": {},
   "source": [
    "# OPTIONAL - 7. Compress them for Colab Training"
   ]
  },
  {
   "cell_type": "code",
   "execution_count": 20,
   "metadata": {},
   "outputs": [],
   "source": [
    "TRAIN_PATH = os.path.join('Tensorflow', 'workspace', 'images', 'train')\n",
    "TEST_PATH = os.path.join('Tensorflow', 'workspace', 'images', 'test')\n",
    "ARCHIVE_PATH = os.path.join('Tensorflow', 'workspace', 'images', 'archive.tar.gz')"
   ]
  },
  {
   "cell_type": "code",
   "execution_count": 21,
   "metadata": {},
   "outputs": [],
   "source": [
    "!tar -czf {ARCHIVE_PATH} {TRAIN_PATH} {TEST_PATH}"
   ]
  },
  {
   "cell_type": "code",
   "execution_count": null,
   "metadata": {},
   "outputs": [],
   "source": []
  }
 ],
 "metadata": {
  "kernelspec": {
   "display_name": "tfod",
   "language": "python",
   "name": "tfod"
  },
  "language_info": {
   "codemirror_mode": {
    "name": "ipython",
    "version": 3
   },
   "file_extension": ".py",
   "mimetype": "text/x-python",
   "name": "python",
   "nbconvert_exporter": "python",
   "pygments_lexer": "ipython3",
   "version": "3.11.4"
  }
 },
 "nbformat": 4,
 "nbformat_minor": 4
}
